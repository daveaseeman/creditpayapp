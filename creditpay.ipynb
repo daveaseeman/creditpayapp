{
 "cells": [
  {
   "cell_type": "code",
   "execution_count": 25,
   "metadata": {},
   "outputs": [
    {
     "name": "stdout",
     "output_type": "stream",
     "text": [
      "Your url: https://fractalhardware.harvestapp.com/client/invoices/6d738315d7ee556bf377eb5158bd6321\n",
      "2730.0\n",
      "2814.43\n",
      "https://www.paypal.me/fractalhardware/2814.43\n"
     ]
    }
   ],
   "source": [
    "# -*- coding: utf-8 -*-\n",
    "# import sys\n",
    "import os\n",
    "import requests\n",
    "from bs4 import BeautifulSoup\n",
    "\n",
    "# from dotenv import load_dotenv, find_dotenv\n",
    "# load_dotenv(find_dotenv())\n",
    "\n",
    "# reload(sys)\n",
    "# sys.setdefaultencoding('utf8')\n",
    "\n",
    "invoice_url = input(\"Your url: \")\n",
    "# get_payment_url(invoice_url)\n",
    "\n",
    "# def get_payment_url(invoice_url):\n",
    "invoice_content = requests.get(invoice_url).content\n",
    "parsed_content = BeautifulSoup(invoice_content)\n",
    "\n",
    "invoice_amount = float(parsed_content.find(\"td\", id=\"total-amount\").contents[0].replace(\"$\",\"\").replace(\",\",\"\"))\n",
    "\n",
    "credit_amount = str(round(invoice_amount/0.97,2))\n",
    "payment_url = 'https://www.paypal.me/fractalhardware/' + credit_amount\n"
   ]
  },
  {
   "cell_type": "code",
   "execution_count": null,
   "metadata": {},
   "outputs": [],
   "source": []
  }
 ],
 "metadata": {
  "kernelspec": {
   "display_name": "Python 3",
   "language": "python",
   "name": "python3"
  },
  "language_info": {
   "codemirror_mode": {
    "name": "ipython",
    "version": 3
   },
   "file_extension": ".py",
   "mimetype": "text/x-python",
   "name": "python",
   "nbconvert_exporter": "python",
   "pygments_lexer": "ipython3",
   "version": "3.6.5"
  }
 },
 "nbformat": 4,
 "nbformat_minor": 2
}
